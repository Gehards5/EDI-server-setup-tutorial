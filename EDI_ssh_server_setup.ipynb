{
  "nbformat": 4,
  "nbformat_minor": 0,
  "metadata": {
    "colab": {
      "name": "EDI-ssh-server-setup.ipynb",
      "provenance": []
    },
    "kernelspec": {
      "name": "python3",
      "display_name": "Python 3"
    }
  },
  "cells": [
    {
      "cell_type": "markdown",
      "metadata": {
        "id": "RChw8IbWbd1P"
      },
      "source": [
        "# **EDI ssh server setup**"
      ]
    },
    {
      "cell_type": "markdown",
      "metadata": {
        "id": "ePlhdiNeK5ZK"
      },
      "source": [
        "# Preconditions"
      ]
    },
    {
      "cell_type": "markdown",
      "metadata": {
        "id": "mmZmJ_jCK_y9"
      },
      "source": [
        "1. First of all - you should have a ssh account name and changable password"
      ]
    },
    {
      "cell_type": "code",
      "metadata": {
        "id": "Z76DuP3xK6Or"
      },
      "source": [
        "name.surname@10.100.100.100     and    pa$$w0rD"
      ],
      "execution_count": null,
      "outputs": []
    },
    {
      "cell_type": "markdown",
      "metadata": {
        "id": "b1m28_xALwvb"
      },
      "source": [
        "2. Next you should have is an account to internal WiFi called EDI-auth, that you could get from internship Manager or colleague"
      ]
    },
    {
      "cell_type": "code",
      "metadata": {
        "id": "G43QNKeSaicl"
      },
      "source": [
        "name.surname     and   G#n#rat#d_pa$$w0rD"
      ],
      "execution_count": null,
      "outputs": []
    },
    {
      "cell_type": "markdown",
      "metadata": {
        "id": "n8c5ziDlanhO"
      },
      "source": [
        "3. Next, you should have installed Visual Studio Code. I assume that you use linux Ubuntu, because only a mad man try to use Windows in advanced programming."
      ]
    },
    {
      "cell_type": "markdown",
      "metadata": {
        "id": "cRfOY2XMd7Xr"
      },
      "source": [
        "# **The real setup**"
      ]
    },
    {
      "cell_type": "markdown",
      "metadata": {
        "id": "LhMxCZ54amSg"
      },
      "source": [
        "Connect to your server account to check that you are able to do following things. After you have sucsessfully connected to your account, just type \"exit\" and you will go out of it."
      ]
    },
    {
      "cell_type": "code",
      "metadata": {
        "id": "okzx68ldalWH"
      },
      "source": [
        "ssh name.surname@10.100.100.100                 and   exit"
      ],
      "execution_count": null,
      "outputs": []
    },
    {
      "cell_type": "markdown",
      "metadata": {
        "id": "ZB4Q8xfiuSH_"
      },
      "source": [
        "Now you have to create a folder for your work enviroment, where you do all your coding. Don't bother now to create all this internal folder structure and so on. Later you will fill this folder in much simpler ways with GUI."
      ]
    },
    {
      "cell_type": "code",
      "metadata": {
        "id": "yrT35RG8uwrn"
      },
      "source": [
        "mkdir my_work_folder"
      ],
      "execution_count": null,
      "outputs": []
    },
    {
      "cell_type": "markdown",
      "metadata": {
        "id": "uh0Oc1iau77L"
      },
      "source": [
        "And then just go out of server."
      ]
    },
    {
      "cell_type": "code",
      "metadata": {
        "id": "U6_DglVIvE0m"
      },
      "source": [
        "exit"
      ],
      "execution_count": null,
      "outputs": []
    },
    {
      "cell_type": "markdown",
      "metadata": {
        "id": "rliV9TN1d4qX"
      },
      "source": [
        "Next, you generate ssh key to be able login without password. This is neccesarry for visual studio code to be able to connect to your server."
      ]
    },
    {
      "cell_type": "code",
      "metadata": {
        "id": "HkMa34B3fc9D"
      },
      "source": [
        "ssh-keygen -t rsa -b 4096 -f ~/.ssh/debian_rsa"
      ],
      "execution_count": null,
      "outputs": []
    },
    {
      "cell_type": "markdown",
      "metadata": {
        "id": "4eVF5qrKh78k"
      },
      "source": [
        "After executing this command is recommended to enter passphrase for higher security, but DO NOT LOSE THIS PASSPHRASE or you have some serious problems later OR press 2 times enter and just continue. There will be adresses of your public key, private key, key fingerprint and key's randomart image."
      ]
    },
    {
      "cell_type": "markdown",
      "metadata": {
        "id": "uwwluf7tijES"
      },
      "source": [
        "Next you copy the publik key to your server so you can log in later trough Visual Studio Code. You will be asked to enter a password."
      ]
    },
    {
      "cell_type": "code",
      "metadata": {
        "id": "-9WLnqAqjMby"
      },
      "source": [
        "ssh-copy-id -i ~/.ssh/debian_rsa.pub name.surname@10.100.100.100"
      ],
      "execution_count": null,
      "outputs": []
    },
    {
      "cell_type": "markdown",
      "metadata": {
        "id": "rDAHRiWcj2rp"
      },
      "source": [
        "As you can see in output, you have to try enter with ssh 'name.surname@10.100.100.100' to check if key were properly transferred to the server. You will be asked for a password. after that you exit out of it as shown previously."
      ]
    },
    {
      "cell_type": "code",
      "metadata": {
        "id": "DJTHelEckfGa"
      },
      "source": [
        "ssh 'name.surname@10.100.100.100'"
      ],
      "execution_count": null,
      "outputs": []
    },
    {
      "cell_type": "markdown",
      "metadata": {
        "id": "4NNgpDZyksbu"
      },
      "source": [
        "No error output - just normal login into your account with standart introduction text. It worked!"
      ]
    },
    {
      "cell_type": "markdown",
      "metadata": {
        "id": "CbiAUGp0ksT1"
      },
      "source": [
        "Next open your Visual Studio Code and install Remote Development extention from Microsoft."
      ]
    },
    {
      "cell_type": "markdown",
      "metadata": {
        "id": "fYsntAHMl5vh"
      },
      "source": [
        "Next go to the Command Pallete (Control+Shift+P) and open configuration file for Remote-**SSH**"
      ]
    },
    {
      "cell_type": "code",
      "metadata": {
        "id": "wd1X-CGLmbD7"
      },
      "source": [
        "Remote-SSH: Open Configuration File..."
      ],
      "execution_count": null,
      "outputs": []
    },
    {
      "cell_type": "markdown",
      "metadata": {
        "id": "NVOktU43m2mo"
      },
      "source": [
        "After you choose this option, you will see new choice where is written: Select SSH configuration file to edit. From this selection choose file with the following name:"
      ]
    },
    {
      "cell_type": "code",
      "metadata": {
        "id": "leII3DdznuHn"
      },
      "source": [
        "/home/x/.ssh/config"
      ],
      "execution_count": null,
      "outputs": []
    },
    {
      "cell_type": "markdown",
      "metadata": {
        "id": "LWvblTdxoGab"
      },
      "source": [
        "After this you will open file what looks like this: "
      ]
    },
    {
      "cell_type": "code",
      "metadata": {
        "id": "rp0wXNDCoaLL"
      },
      "source": [
        "Host alias\n",
        "    HostName hostname\n",
        "    User user"
      ],
      "execution_count": null,
      "outputs": []
    },
    {
      "cell_type": "markdown",
      "metadata": {
        "id": "pRlWuH8GojB8"
      },
      "source": [
        "Now you have change this file with your own connection details. First - Host is the name you give to this connection that you will see in the corner of your Visual Studio Code. Second - HostName is the IP adress of your server (the string of numbers and points after @ symbol in your server account name). Third - User is the second part of your server account name (everython previous to the @ symbl in your server account name). And last thing - you should add one more line IdentifyFile with your server private key location. "
      ]
    },
    {
      "cell_type": "code",
      "metadata": {
        "id": "ostJcqeIrh77"
      },
      "source": [
        "Host SmartGuy_EDI\n",
        "    HostName 10.100.100.100\n",
        "    User name.surname\n",
        "    IdentifyFile ~/.ssh/debian_rsa"
      ],
      "execution_count": null,
      "outputs": []
    },
    {
      "cell_type": "markdown",
      "metadata": {
        "id": "ShnJpeKKr7bh"
      },
      "source": [
        "Now save the file if you haven't set autosave in Visual Studio Code. "
      ]
    },
    {
      "cell_type": "markdown",
      "metadata": {
        "id": "o6ty-f5-sGnn"
      },
      "source": [
        "Next go to the Command Pallete and choose: "
      ]
    },
    {
      "cell_type": "code",
      "metadata": {
        "id": "QfUEOY6os4XV"
      },
      "source": [
        "Remote-SSH: Connect to Host... "
      ],
      "execution_count": null,
      "outputs": []
    },
    {
      "cell_type": "markdown",
      "metadata": {
        "id": "TQ92OIaos6DI"
      },
      "source": [
        "After that you have to choose your connection alias you gave to your host and press enter."
      ]
    },
    {
      "cell_type": "code",
      "metadata": {
        "id": "pBJbIFdmtJp8"
      },
      "source": [
        "SmartGuy_EDI"
      ],
      "execution_count": null,
      "outputs": []
    },
    {
      "cell_type": "markdown",
      "metadata": {
        "id": "SurcLs26tWfI"
      },
      "source": [
        "Then pops out new window of Visual Studio Code and in left bottom corner is the name of this connection that you gave to your conection.\n",
        "\n",
        " **Hip hip, success!**"
      ]
    },
    {
      "cell_type": "markdown",
      "metadata": {
        "id": "N-SA9QvvvugM"
      },
      "source": [
        "Now in Visual Studio code in welcome tab in Start options click open folder and find your work folder. "
      ]
    },
    {
      "cell_type": "code",
      "metadata": {
        "id": "VORKQzpewzyy"
      },
      "source": [
        "my_work_folder"
      ],
      "execution_count": null,
      "outputs": []
    },
    {
      "cell_type": "markdown",
      "metadata": {
        "id": "wMsJNqN-w6tz"
      },
      "source": [
        "Now you have opened your work folder and this is all in this part. You can check this video for some more help: https://www.youtube.com/watch?v=lKXMyln_5q4"
      ]
    },
    {
      "cell_type": "markdown",
      "metadata": {
        "id": "gEAo4sXJxFJ-"
      },
      "source": [
        "# Installing all dependencies for Python and Machine Learning in Tensorflow 2"
      ]
    },
    {
      "cell_type": "markdown",
      "metadata": {
        "id": "ne4SJ2Cr04v5"
      },
      "source": [
        "Before actual installling part you should go and install your extentions on your remote serveer Visual studio code as they are seperate. If you have used them before then just press \"install in SSH\" and it all be ok for you. If you haven't used Visual Studio code before, install these extentions on main Visual Studio Code for both enviroments. I personally suggest for python: Ayu -opened folder style is great, Python - ofcourse, SQLTools - for databases, rainbow CSV - eyes will say thank you for reading easier and Jupyter."
      ]
    },
    {
      "cell_type": "markdown",
      "metadata": {
        "id": "hXzBZTERy3dA"
      },
      "source": [
        "As in server you don't have interface because EDI server is linux based server, the only thing that you could do is use terminal in this enviroment. As Visual Studio Code provides terminal built-in you only have to open it and only. So, open terminal (ctrl+J) and type into it all commands as they are written down. You can add or delete terminals with no stress that something willl go terribly wrong."
      ]
    },
    {
      "cell_type": "markdown",
      "metadata": {
        "id": "3OltwZTKxiF2"
      },
      "source": [
        "Check python version"
      ]
    },
    {
      "cell_type": "code",
      "metadata": {
        "id": "lFZ6ebb9ylTK"
      },
      "source": [
        "python -V"
      ],
      "execution_count": null,
      "outputs": []
    },
    {
      "cell_type": "markdown",
      "metadata": {
        "id": "CNiYvQElyooj"
      },
      "source": [
        "If the python is too old like Python 2.7.9 then you should upgrade it with this command (choose your own python version you are currently working with in 3.x place):"
      ]
    },
    {
      "cell_type": "code",
      "metadata": {
        "id": "j5iiyHi_3ay2"
      },
      "source": [
        "sudo apt update\n",
        "sudo apt install python3.x  "
      ],
      "execution_count": null,
      "outputs": []
    },
    {
      "cell_type": "markdown",
      "metadata": {
        "id": "rbj38fsK44q7"
      },
      "source": [
        "Make your python3.x default "
      ]
    },
    {
      "cell_type": "code",
      "metadata": {
        "id": "Iro7JRqh5KRO"
      },
      "source": [
        "update-alternatives --install /usr/bin/python python /usr/bin/python3 10"
      ],
      "execution_count": null,
      "outputs": []
    },
    {
      "cell_type": "markdown",
      "metadata": {
        "id": "myA2w0Q-5W36"
      },
      "source": [
        "Then you have to check if pip is vorking:"
      ]
    },
    {
      "cell_type": "code",
      "metadata": {
        "id": "bgz4iPcMDC7e"
      },
      "source": [
        "pip -V"
      ],
      "execution_count": null,
      "outputs": []
    },
    {
      "cell_type": "markdown",
      "metadata": {
        "id": "WvUOOkZJDFqB"
      },
      "source": [
        "if there is some error then check if pip3 is working:"
      ]
    },
    {
      "cell_type": "code",
      "metadata": {
        "id": "h5aGVK-dDQ4x"
      },
      "source": [
        "pip3 -V"
      ],
      "execution_count": null,
      "outputs": []
    },
    {
      "cell_type": "markdown",
      "metadata": {
        "id": "oL3PTQdMDToC"
      },
      "source": [
        "pip is most popular package installer in python. If there is some error, google the solution. Python 3 provide pip in default instalation."
      ]
    },
    {
      "cell_type": "markdown",
      "metadata": {
        "id": "4FKp4kF4D6Bb"
      },
      "source": [
        "Now make pip3 your default pip so there won't be need to remember to write all the time pip3 pip3 .... insteadd of pip."
      ]
    },
    {
      "cell_type": "code",
      "metadata": {
        "id": "xLt_Fb4jENNc"
      },
      "source": [
        "sudo update-alternatives --install /usr/bin/pip pip /usr/bin/pip3 10"
      ],
      "execution_count": null,
      "outputs": []
    },
    {
      "cell_type": "markdown",
      "metadata": {
        "id": "u53JVe5SEXZL"
      },
      "source": [
        "Then this VIsual Studio Code gives some advices to install some software like ipynkernels or something like that. You just click install and go on."
      ]
    },
    {
      "cell_type": "markdown",
      "metadata": {
        "id": "tisZja9AGuvD"
      },
      "source": [
        "Then in terminal this warning shows up \"You have add some/adress to PATH.\" Yust copy this some adress from terminal and add it to PATH like this (insert this adress in plase where I put this some/adress alias)"
      ]
    },
    {
      "cell_type": "code",
      "metadata": {
        "id": "PsOtS861HN9P"
      },
      "source": [
        "export PATH=\"$HOME/some/adress:$PATH\""
      ],
      "execution_count": null,
      "outputs": []
    },
    {
      "cell_type": "markdown",
      "metadata": {
        "id": "rP4vqXifHbst"
      },
      "source": [
        "Now is time to install virtualenv - package creator for local installations in order to not mess up packages for multiple projects to run them faster and also to be able to send your configuration file to others for them being able to replicate your code without extra errors. It installs python version automatically in it. "
      ]
    },
    {
      "cell_type": "code",
      "metadata": {
        "id": "R6cNybsNIlB2"
      },
      "source": [
        "pip install virtualenv"
      ],
      "execution_count": null,
      "outputs": []
    },
    {
      "cell_type": "markdown",
      "metadata": {
        "id": "hFVqi59RIr1H"
      },
      "source": [
        "Now create your folder of configurations (usual this folder name ends with env):"
      ]
    },
    {
      "cell_type": "code",
      "metadata": {
        "id": "--VVObrbI0r7"
      },
      "source": [
        "virtualenv project1_env"
      ],
      "execution_count": null,
      "outputs": []
    },
    {
      "cell_type": "markdown",
      "metadata": {
        "id": "Vz2qQmAVJBKM"
      },
      "source": [
        "and now to activate it"
      ]
    },
    {
      "cell_type": "code",
      "metadata": {
        "id": "gJrJbdytI_8j"
      },
      "source": [
        "source project1_env/bin/activate"
      ],
      "execution_count": null,
      "outputs": []
    },
    {
      "cell_type": "markdown",
      "metadata": {
        "id": "STenyUBxJUmu"
      },
      "source": [
        "And ta-daa! Now In your terminal shows extra (project1_env) and your all configurations are installed in your local folder for your project only not in whole system. "
      ]
    },
    {
      "cell_type": "markdown",
      "metadata": {
        "id": "LBpdT0NdJpc9"
      },
      "source": [
        "# You can close terminal with ctrl+J and in left upper corner moving mouse to your workspace folder name and click new file and write: main.py"
      ]
    },
    {
      "cell_type": "markdown",
      "metadata": {
        "id": "cXfPbVQjKasc"
      },
      "source": [
        "Write your code, open terminal with ctrl+J and activate jour virtual enviroment with source project1_env/bin/activate. Install in this enviroment with pip and start coding. **Good luck!!!**"
      ]
    }
  ]
}